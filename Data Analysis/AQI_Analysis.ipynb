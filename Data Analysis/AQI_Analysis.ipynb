{
 "cells": [
  {
   "cell_type": "markdown",
   "metadata": {
    "collapsed": true
   },
   "source": [
    "<h2> Assignment 5 Notebook </h2> \n",
    "<body>\n",
    "<p>Full name : Kirthanaa Raghuraman</p>\n",
    "<p>Wisc Id : kraghuraman</p>\n",
    "<p>Test Setup details : </p>\n",
    "<p>Jupyter verison : </p>\n",
    "</body>"
   ]
  },
  {
   "cell_type": "code",
   "execution_count": 1,
   "metadata": {
    "collapsed": false
   },
   "outputs": [],
   "source": [
    "import pandas as pd\n",
    "# numpy has a lots of useful math related modules \n",
    "import numpy as np\n",
    "# Helpful function to display intermittent result \n",
    "from IPython.display import display\n"
   ]
  },
  {
   "cell_type": "code",
   "execution_count": 3,
   "metadata": {
    "collapsed": false
   },
   "outputs": [],
   "source": [
    "import plotly\n",
    "api_key = 'x2VydZH1XsaHpEunc8ZG'\n",
    "plotly.tools.set_credentials_file(username='kraghuraman', api_key=api_key)\n"
   ]
  },
  {
   "cell_type": "markdown",
   "metadata": {},
   "source": [
    "<H4>Step 0 : Take a peek at the dataset</H4>"
   ]
  },
  {
   "cell_type": "code",
   "execution_count": 6,
   "metadata": {
    "collapsed": false
   },
   "outputs": [
    {
     "data": {
      "text/html": [
       "<div>\n",
       "<table border=\"1\" class=\"dataframe\">\n",
       "  <thead>\n",
       "    <tr style=\"text-align: right;\">\n",
       "      <th></th>\n",
       "      <th>State Code</th>\n",
       "      <th>County Code</th>\n",
       "      <th>Latitude</th>\n",
       "      <th>Longitude</th>\n",
       "      <th>Date Local</th>\n",
       "      <th>AQI</th>\n",
       "      <th>Address</th>\n",
       "      <th>State Name</th>\n",
       "      <th>County Name</th>\n",
       "      <th>City Name</th>\n",
       "      <th>CBSA Name</th>\n",
       "    </tr>\n",
       "  </thead>\n",
       "  <tbody>\n",
       "    <tr>\n",
       "      <th>0</th>\n",
       "      <td>55</td>\n",
       "      <td>59</td>\n",
       "      <td>42.504722</td>\n",
       "      <td>-87.8093</td>\n",
       "      <td>1997-04-28</td>\n",
       "      <td>82</td>\n",
       "      <td>CHIWAUKEE PRAIRIE, 11838 FIRST COURT</td>\n",
       "      <td>Wisconsin</td>\n",
       "      <td>Kenosha</td>\n",
       "      <td>Pleasant Prairie</td>\n",
       "      <td>Chicago-Naperville-Elgin, IL-IN-WI</td>\n",
       "    </tr>\n",
       "    <tr>\n",
       "      <th>1</th>\n",
       "      <td>55</td>\n",
       "      <td>59</td>\n",
       "      <td>42.504722</td>\n",
       "      <td>-87.8093</td>\n",
       "      <td>1997-05-10</td>\n",
       "      <td>33</td>\n",
       "      <td>CHIWAUKEE PRAIRIE, 11838 FIRST COURT</td>\n",
       "      <td>Wisconsin</td>\n",
       "      <td>Kenosha</td>\n",
       "      <td>Pleasant Prairie</td>\n",
       "      <td>Chicago-Naperville-Elgin, IL-IN-WI</td>\n",
       "    </tr>\n",
       "    <tr>\n",
       "      <th>2</th>\n",
       "      <td>55</td>\n",
       "      <td>59</td>\n",
       "      <td>42.504722</td>\n",
       "      <td>-87.8093</td>\n",
       "      <td>1997-05-16</td>\n",
       "      <td>25</td>\n",
       "      <td>CHIWAUKEE PRAIRIE, 11838 FIRST COURT</td>\n",
       "      <td>Wisconsin</td>\n",
       "      <td>Kenosha</td>\n",
       "      <td>Pleasant Prairie</td>\n",
       "      <td>Chicago-Naperville-Elgin, IL-IN-WI</td>\n",
       "    </tr>\n",
       "    <tr>\n",
       "      <th>3</th>\n",
       "      <td>55</td>\n",
       "      <td>59</td>\n",
       "      <td>42.504722</td>\n",
       "      <td>-87.8093</td>\n",
       "      <td>1997-05-22</td>\n",
       "      <td>25</td>\n",
       "      <td>CHIWAUKEE PRAIRIE, 11838 FIRST COURT</td>\n",
       "      <td>Wisconsin</td>\n",
       "      <td>Kenosha</td>\n",
       "      <td>Pleasant Prairie</td>\n",
       "      <td>Chicago-Naperville-Elgin, IL-IN-WI</td>\n",
       "    </tr>\n",
       "    <tr>\n",
       "      <th>4</th>\n",
       "      <td>55</td>\n",
       "      <td>59</td>\n",
       "      <td>42.504722</td>\n",
       "      <td>-87.8093</td>\n",
       "      <td>1997-05-28</td>\n",
       "      <td>46</td>\n",
       "      <td>CHIWAUKEE PRAIRIE, 11838 FIRST COURT</td>\n",
       "      <td>Wisconsin</td>\n",
       "      <td>Kenosha</td>\n",
       "      <td>Pleasant Prairie</td>\n",
       "      <td>Chicago-Naperville-Elgin, IL-IN-WI</td>\n",
       "    </tr>\n",
       "  </tbody>\n",
       "</table>\n",
       "</div>"
      ],
      "text/plain": [
       "   State Code  County Code   Latitude  Longitude  Date Local  AQI  \\\n",
       "0          55           59  42.504722   -87.8093  1997-04-28   82   \n",
       "1          55           59  42.504722   -87.8093  1997-05-10   33   \n",
       "2          55           59  42.504722   -87.8093  1997-05-16   25   \n",
       "3          55           59  42.504722   -87.8093  1997-05-22   25   \n",
       "4          55           59  42.504722   -87.8093  1997-05-28   46   \n",
       "\n",
       "                                Address State Name County Name  \\\n",
       "0  CHIWAUKEE PRAIRIE, 11838 FIRST COURT  Wisconsin     Kenosha   \n",
       "1  CHIWAUKEE PRAIRIE, 11838 FIRST COURT  Wisconsin     Kenosha   \n",
       "2  CHIWAUKEE PRAIRIE, 11838 FIRST COURT  Wisconsin     Kenosha   \n",
       "3  CHIWAUKEE PRAIRIE, 11838 FIRST COURT  Wisconsin     Kenosha   \n",
       "4  CHIWAUKEE PRAIRIE, 11838 FIRST COURT  Wisconsin     Kenosha   \n",
       "\n",
       "          City Name                           CBSA Name  \n",
       "0  Pleasant Prairie  Chicago-Naperville-Elgin, IL-IN-WI  \n",
       "1  Pleasant Prairie  Chicago-Naperville-Elgin, IL-IN-WI  \n",
       "2  Pleasant Prairie  Chicago-Naperville-Elgin, IL-IN-WI  \n",
       "3  Pleasant Prairie  Chicago-Naperville-Elgin, IL-IN-WI  \n",
       "4  Pleasant Prairie  Chicago-Naperville-Elgin, IL-IN-WI  "
      ]
     },
     "metadata": {},
     "output_type": "display_data"
    }
   ],
   "source": [
    "# Load the data and display only first five rows \n",
    "# NOTE replace the following value with the actual path to the csv file \n",
    "data_file = \"AQI.csv\" # e.g ~/cs564/p5/AQI.csv\"\n",
    "display(pd.read_csv(data_file, nrows=5).head())"
   ]
  },
  {
   "cell_type": "markdown",
   "metadata": {},
   "source": [
    "<H5>Step 1 : Load the dataset</H5>\n"
   ]
  },
  {
   "cell_type": "code",
   "execution_count": 8,
   "metadata": {
    "collapsed": false
   },
   "outputs": [],
   "source": [
    "from sqlalchemy import create_engine\n",
    "import sqlite3\n",
    "# create a database where we'll load the dataset from the csv file \n",
    "db_conn = create_engine('sqlite:///AirQualityIndex.db')"
   ]
  },
  {
   "cell_type": "code",
   "execution_count": 7,
   "metadata": {
    "collapsed": false
   },
   "outputs": [],
   "source": [
    "import string\n",
    "# load in a batch of 5000 tuples. Modify this value to your needs\n",
    "chunks = 5000\n",
    "for data in pd.read_csv(data_file, chunksize=chunks,\n",
    " iterator=True, encoding='utf-8'):\n",
    "\n",
    " data = data.rename(columns={col: col.replace('-', ' ') for col in data.columns})\n",
    " data = data.rename(columns={col: col.strip() for col in data.columns})\n",
    " data = data.rename(columns={col: string.capwords(col) for col in data.columns})\n",
    " data = data.rename(columns={col: col.replace(' ', '') for col in data.columns})\n",
    "\n",
    " data.to_sql('data', db_conn, if_exists='append')"
   ]
  },
  {
   "cell_type": "markdown",
   "metadata": {},
   "source": [
    "<H5>Step 2 : Data Exploration</H5>\n",
    "<body>\n",
    "<p> Find the average air quality index for each city recorded during the year 1997 </p>\n",
    "</body>"
   ]
  },
  {
   "cell_type": "code",
   "execution_count": 4,
   "metadata": {
    "collapsed": false
   },
   "outputs": [
    {
     "data": {
      "text/html": [
       "<div>\n",
       "<table border=\"1\" class=\"dataframe\">\n",
       "  <thead>\n",
       "    <tr style=\"text-align: right;\">\n",
       "      <th></th>\n",
       "      <th>avg_aqi</th>\n",
       "      <th>city</th>\n",
       "    </tr>\n",
       "  </thead>\n",
       "  <tbody>\n",
       "    <tr>\n",
       "      <th>0</th>\n",
       "      <td>58.068182</td>\n",
       "      <td>Milwaukee</td>\n",
       "    </tr>\n",
       "    <tr>\n",
       "      <th>1</th>\n",
       "      <td>54.279070</td>\n",
       "      <td>Waukesha</td>\n",
       "    </tr>\n",
       "    <tr>\n",
       "      <th>2</th>\n",
       "      <td>50.731707</td>\n",
       "      <td>Pleasant Prairie</td>\n",
       "    </tr>\n",
       "  </tbody>\n",
       "</table>\n",
       "</div>"
      ],
      "text/plain": [
       "     avg_aqi              city\n",
       "0  58.068182         Milwaukee\n",
       "1  54.279070          Waukesha\n",
       "2  50.731707  Pleasant Prairie"
      ]
     },
     "metadata": {},
     "output_type": "display_data"
    }
   ],
   "source": [
    "avg_air_quality = pd.read_sql_query(\"\"\"SELECT AVG(AQI) as avg_aqi, \n",
    "                             CityName as city FROM data\n",
    "                             WHERE \"DateLocal\" LIKE \"1997-%\" \n",
    "                             GROUP BY city \n",
    "                             ORDER BY avg_aqi DESC\"\"\", db_conn)\n",
    "\n",
    "# Display the result (Note - the result 'avg_air_quality' is an instance of 'pandas DataFrame')\n",
    "display(avg_air_quality)"
   ]
  },
  {
   "cell_type": "code",
   "execution_count": 24,
   "metadata": {
    "collapsed": false
   },
   "outputs": [
    {
     "data": {
      "text/html": [
       "<div>\n",
       "<table border=\"1\" class=\"dataframe\">\n",
       "  <thead>\n",
       "    <tr style=\"text-align: right;\">\n",
       "      <th></th>\n",
       "      <th>CityName</th>\n",
       "      <th>Avg_AQI</th>\n",
       "    </tr>\n",
       "  </thead>\n",
       "  <tbody>\n",
       "    <tr>\n",
       "      <th>0</th>\n",
       "      <td>Boston</td>\n",
       "      <td>26.766040</td>\n",
       "    </tr>\n",
       "    <tr>\n",
       "      <th>1</th>\n",
       "      <td>New York</td>\n",
       "      <td>28.603001</td>\n",
       "    </tr>\n",
       "    <tr>\n",
       "      <th>2</th>\n",
       "      <td>San Francisco</td>\n",
       "      <td>29.372881</td>\n",
       "    </tr>\n",
       "    <tr>\n",
       "      <th>3</th>\n",
       "      <td>Chicago</td>\n",
       "      <td>34.735294</td>\n",
       "    </tr>\n",
       "    <tr>\n",
       "      <th>4</th>\n",
       "      <td>Los Angeles</td>\n",
       "      <td>44.765000</td>\n",
       "    </tr>\n",
       "  </tbody>\n",
       "</table>\n",
       "</div>"
      ],
      "text/plain": [
       "        CityName    Avg_AQI\n",
       "0         Boston  26.766040\n",
       "1       New York  28.603001\n",
       "2  San Francisco  29.372881\n",
       "3        Chicago  34.735294\n",
       "4    Los Angeles  44.765000"
      ]
     },
     "metadata": {},
     "output_type": "display_data"
    }
   ],
   "source": [
    "avg_aqi = pd.read_sql_query(\"\"\"SELECT CityName, AVG(aqi) AS Avg_AQI \n",
    "                            FROM data \n",
    "                            WHERE CityName IN ('New York', 'Chicago', 'Boston', 'Los Angeles', 'San Francisco') \n",
    "                            AND DateLocal LIKE \"2016-%\" GROUP BY CityName ORDER BY Avg_AQI\"\"\", db_conn)\n",
    "display(avg_aqi)"
   ]
  },
  {
   "cell_type": "code",
   "execution_count": 26,
   "metadata": {
    "collapsed": false
   },
   "outputs": [
    {
     "data": {
      "text/html": [
       "<iframe id=\"igraph\" scrolling=\"no\" style=\"border:none;\" seamless=\"seamless\" src=\"https://plot.ly/~kraghuraman/2.embed\" height=\"525px\" width=\"100%\"></iframe>"
      ],
      "text/plain": [
       "<plotly.tools.PlotlyDisplay object>"
      ]
     },
     "execution_count": 26,
     "metadata": {},
     "output_type": "execute_result"
    }
   ],
   "source": [
    "import plotly.plotly as py\n",
    "import plotly.graph_objs as go\n",
    "\n",
    "data = [go.Bar(\n",
    "            x=avg_aqi['CityName'],\n",
    "            y=avg_aqi['Avg_AQI'],\n",
    "            marker=dict(\n",
    "                color=['rgba(222,45,38,0.8)', 'rgba(222,45,38,0.8)',\n",
    "               'rgba(222,45,38,0.8)', 'rgba(222,45,38,0.8)',\n",
    "               'rgba(222,45,38,0.8)']),\n",
    "    )]\n",
    "\n",
    "layout = dict(title = 'Comparison of AQI of 5 cities in 2016',\n",
    "              xaxis = dict(title = 'City'),\n",
    "              yaxis = dict(title = 'Avg AQI'),\n",
    "              )\n",
    "\n",
    "fig = dict(data=data, layout=layout)\n",
    "\n",
    "\n",
    "py.iplot(fig, filename='basic-bar')"
   ]
  },
  {
   "cell_type": "code",
   "execution_count": 23,
   "metadata": {
    "collapsed": false
   },
   "outputs": [
    {
     "ename": "SyntaxError",
     "evalue": "invalid syntax (<ipython-input-23-4fa92ab32c27>, line 1)",
     "output_type": "error",
     "traceback": [
      "\u001b[0;36m  File \u001b[0;32m\"<ipython-input-23-4fa92ab32c27>\"\u001b[0;36m, line \u001b[0;32m1\u001b[0m\n\u001b[0;31m    SELECT CityName, AVG(aqi) AS Avg_AQI, SUBSTR(DateLocal,1,4) AS Year\u001b[0m\n\u001b[0m                  ^\u001b[0m\n\u001b[0;31mSyntaxError\u001b[0m\u001b[0;31m:\u001b[0m invalid syntax\n"
     ]
    }
   ],
   "source": [
    "SELECT CityName, AVG(aqi) AS Avg_AQI, SUBSTR(DateLocal,1,4) AS Year \n",
    "FROM data \n",
    "WHERE CityName IN ('New York', 'Chicago', 'Boston', 'Los Angeles', 'San Francisco') \n",
    "AND DateLocal Like '20__-%' \n",
    "GROUP BY CityName, SUBSTR(DateLocal,1,4);"
   ]
  },
  {
   "cell_type": "markdown",
   "metadata": {},
   "source": [
    "<H5>Step 3 : Data Visualization</H5>\n",
    "<body>\n",
    "<p>Visualize the data you received above as plots</p>\n",
    "</body>"
   ]
  },
  {
   "cell_type": "code",
   "execution_count": null,
   "metadata": {
    "collapsed": true
   },
   "outputs": [],
   "source": [
    "Query 1 : Best month to visit new york. Line graph\n",
    "Query 2 : Percentage change in air from year1 to year2. Plot on map.\n",
    "Query 3 : Scatter plot. Lat vs Long. Agg by one year\n",
    "Querr 4 : "
   ]
  },
  {
   "cell_type": "code",
   "execution_count": 9,
   "metadata": {
    "collapsed": false
   },
   "outputs": [
    {
     "data": {
      "text/html": [
       "<div>\n",
       "<table border=\"1\" class=\"dataframe\">\n",
       "  <thead>\n",
       "    <tr style=\"text-align: right;\">\n",
       "      <th></th>\n",
       "      <th>Month</th>\n",
       "      <th>Avg_AQI</th>\n",
       "    </tr>\n",
       "  </thead>\n",
       "  <tbody>\n",
       "    <tr>\n",
       "      <th>0</th>\n",
       "      <td>01</td>\n",
       "      <td>42.767296</td>\n",
       "    </tr>\n",
       "    <tr>\n",
       "      <th>1</th>\n",
       "      <td>02</td>\n",
       "      <td>41.424701</td>\n",
       "    </tr>\n",
       "    <tr>\n",
       "      <th>2</th>\n",
       "      <td>03</td>\n",
       "      <td>31.981119</td>\n",
       "    </tr>\n",
       "    <tr>\n",
       "      <th>3</th>\n",
       "      <td>04</td>\n",
       "      <td>29.628388</td>\n",
       "    </tr>\n",
       "    <tr>\n",
       "      <th>4</th>\n",
       "      <td>05</td>\n",
       "      <td>36.145946</td>\n",
       "    </tr>\n",
       "    <tr>\n",
       "      <th>5</th>\n",
       "      <td>06</td>\n",
       "      <td>37.538117</td>\n",
       "    </tr>\n",
       "    <tr>\n",
       "      <th>6</th>\n",
       "      <td>07</td>\n",
       "      <td>43.086988</td>\n",
       "    </tr>\n",
       "    <tr>\n",
       "      <th>7</th>\n",
       "      <td>08</td>\n",
       "      <td>36.922611</td>\n",
       "    </tr>\n",
       "    <tr>\n",
       "      <th>8</th>\n",
       "      <td>09</td>\n",
       "      <td>31.870624</td>\n",
       "    </tr>\n",
       "    <tr>\n",
       "      <th>9</th>\n",
       "      <td>10</td>\n",
       "      <td>29.489765</td>\n",
       "    </tr>\n",
       "    <tr>\n",
       "      <th>10</th>\n",
       "      <td>11</td>\n",
       "      <td>32.805511</td>\n",
       "    </tr>\n",
       "    <tr>\n",
       "      <th>11</th>\n",
       "      <td>12</td>\n",
       "      <td>39.611424</td>\n",
       "    </tr>\n",
       "  </tbody>\n",
       "</table>\n",
       "</div>"
      ],
      "text/plain": [
       "   Month    Avg_AQI\n",
       "0     01  42.767296\n",
       "1     02  41.424701\n",
       "2     03  31.981119\n",
       "3     04  29.628388\n",
       "4     05  36.145946\n",
       "5     06  37.538117\n",
       "6     07  43.086988\n",
       "7     08  36.922611\n",
       "8     09  31.870624\n",
       "9     10  29.489765\n",
       "10    11  32.805511\n",
       "11    12  39.611424"
      ]
     },
     "metadata": {},
     "output_type": "display_data"
    }
   ],
   "source": [
    "# Query 1 - Best time to visit new york\n",
    "\n",
    "newyork_monthly_aqi = pd.read_sql_query(\"\"\"SELECT Temp.Month AS Month, AVG(Temp.AQI) AS Avg_AQI FROM \n",
    "        (SELECT SUBSTR(DateLocal, 1,4) AS Year, SUBSTR(DateLocal, 6, 2) AS Month, SUBSTR(DateLocal, 9, 2) AS Date, AQI \n",
    "        FROM data \n",
    "        WHERE CityName = 'New York' AND Year LIKE '201_') AS Temp\n",
    "        GROUP BY Temp.Month\n",
    "        ORDER BY Temp.Month\"\"\", db_conn)\n",
    "\n",
    "display(newyork_monthly_aqi)\n"
   ]
  },
  {
   "cell_type": "code",
   "execution_count": 10,
   "metadata": {
    "collapsed": false
   },
   "outputs": [],
   "source": [
    "import matplotlib.pyplot as plt\n",
    "from pandas import DataFrame\n",
    "\n",
    "month_list = list(newyork_monthly_aqi['Month'].values.flatten())\n",
    "aqi_list = list(newyork_monthly_aqi['Avg_AQI'].values.flatten())\n",
    "plt.title('Best time to visit New York')\n",
    "plt.xlabel('Month')\n",
    "plt.ylabel('Average Air quality Index over last 6 years')\n",
    "plt.plot(month_list, aqi_list)\n",
    "plt.show()"
   ]
  },
  {
   "cell_type": "code",
   "execution_count": 15,
   "metadata": {
    "collapsed": false
   },
   "outputs": [
    {
     "name": "stdout",
     "output_type": "stream",
     "text": [
      "High five! You successfuly sent some data to your account on plotly. View your plot in your browser at https://plot.ly/~kraghuraman/0 or inside your plot.ly account where it is named 'basic-line'\n"
     ]
    },
    {
     "data": {
      "text/html": [
       "<iframe id=\"igraph\" scrolling=\"no\" style=\"border:none;\" seamless=\"seamless\" src=\"https://plot.ly/~kraghuraman/0.embed\" height=\"525px\" width=\"100%\"></iframe>"
      ],
      "text/plain": [
       "<plotly.tools.PlotlyDisplay object>"
      ]
     },
     "execution_count": 15,
     "metadata": {},
     "output_type": "execute_result"
    }
   ],
   "source": [
    "import plotly.plotly as py\n",
    "import plotly.graph_objs as go\n",
    "month = ['January', 'February', 'March', 'April', 'May', 'June', 'July',\n",
    "         'August', 'September', 'October', 'November', 'December']\n",
    "month_list = list(newyork_monthly_aqi['Month'].values.flatten())\n",
    "aqi_list = list(newyork_monthly_aqi['Avg_AQI'].values.flatten())\n",
    "# Create a trace\n",
    "trace = go.Scatter(\n",
    "    x = month,\n",
    "    y = aqi_list\n",
    ")\n",
    "\n",
    "data = [trace]\n",
    "layout = dict(title = 'Best time to visit New York',\n",
    "              xaxis = dict(title = 'Month'),\n",
    "              yaxis = dict(title = 'Avg AQI for past 6 years'),\n",
    "              )\n",
    "\n",
    "fig = dict(data=data, layout=layout)\n",
    "\n",
    "py.iplot(fig, filename='basic-line')"
   ]
  },
  {
   "cell_type": "code",
   "execution_count": 9,
   "metadata": {
    "collapsed": false
   },
   "outputs": [],
   "source": [
    "# Use matplotlib library to plot graph - a simple barchart in this case \n",
    "# We encourage you to explore different and more complex types of chart\n",
    "import matplotlib.pyplot as plt\n",
    "\n",
    "\n",
    "# First we convert the Dataframe object to Python list (that Matplotlib understands)\n",
    "from pandas import DataFrame\n",
    "# this is our 'y-axis' value - obtained by flattening the DataFrame object \n",
    "aqis_list = list(avg_air_quality['avg_aqi'].values.flatten())\n",
    "# This is our x-axis value \n",
    "cities = list(avg_air_quality['city'].values.flatten())\n",
    "\n",
    "# Specify the plot type and formatting \n",
    "plt.title('Air quality index with date')\n",
    "y_pos = np.arange(len(cities))\n",
    "# Type of graph\n",
    "plt.bar(y_pos, aqis_list, align='center', alpha=0.6, width=0.4)\n",
    "# Specify 'ticks' on the x-axis for each item in the list for 'x-axis' values  \n",
    "plt.xticks(y_pos, cities)\n",
    "plt.xlabel('City')\n",
    "plt.ylabel('Average Air quality Index')\n",
    "plt.show()\n",
    "# Save this diagram(by default at the directory from where this application is launched)\n",
    "plt.savefig(\"figA.png\")\n"
   ]
  },
  {
   "cell_type": "markdown",
   "metadata": {},
   "source": [
    "<h5> Step 4 : Optional (recommended) : Build Machine Learning models </h5>"
   ]
  },
  {
   "cell_type": "markdown",
   "metadata": {},
   "source": [
    "<H4>Summary </H4>\n",
    "<body>\n",
    "<p>1. Write a brief summary of your findings here. </p>\n",
    "<p>2. Additionally explore by building a machine learning model using scikit-learn to make predictions and analysis </p>\n",
    "</body>"
   ]
  },
  {
   "cell_type": "markdown",
   "metadata": {},
   "source": [
    "<h5> Finally, take a moment to reflect on what we achieved here - we started with a raw dataset, processed them, built models and ran analytics to finally gain insights from the data :) </h5> "
   ]
  }
 ],
 "metadata": {
  "kernelspec": {
   "display_name": "Python 2",
   "language": "python",
   "name": "python2"
  },
  "language_info": {
   "codemirror_mode": {
    "name": "ipython",
    "version": 2
   },
   "file_extension": ".py",
   "mimetype": "text/x-python",
   "name": "python",
   "nbconvert_exporter": "python",
   "pygments_lexer": "ipython2",
   "version": "2.7.10"
  }
 },
 "nbformat": 4,
 "nbformat_minor": 2
}
